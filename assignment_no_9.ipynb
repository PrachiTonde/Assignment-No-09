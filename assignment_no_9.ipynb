{
  "nbformat": 4,
  "nbformat_minor": 0,
  "metadata": {
    "colab": {
      "provenance": []
    },
    "kernelspec": {
      "name": "python3",
      "display_name": "Python 3"
    },
    "language_info": {
      "name": "python"
    }
  },
  "cells": [
    {
      "cell_type": "code",
      "execution_count": null,
      "metadata": {
        "colab": {
          "base_uri": "https://localhost:8080/"
        },
        "id": "KdCXUWg_zshQ",
        "outputId": "f593f5a2-6bca-4614-db84-6122a1aa727b"
      },
      "outputs": [
        {
          "name": "stdout",
          "output_type": "stream",
          "text": [
            "Decay Coefficient:0.23\n",
            "Temperature of 3rd day BOD:20\n",
            "Temperature of 7th day BOD:25\n",
            "The value ofK2 is: 0.2893751572825015\n",
            "The value of e is: 2.718\n",
            "BOD at 3rd day 20c:50\n",
            "time in days for finding B1:3\n"
          ]
        }
      ],
      "source": [
        "# To find BOD at 7th day 25C\n",
        "# To find Decay Coefficient at 25C\n",
        "K= float(input(\"Decay Coefficient:\"))\n",
        "T= float(input(\"Temperature of 3rd day BOD:\"))\n",
        "TI=float(input(\"Temperature of 7th day BOD:\"))\n",
        "K2 = (K*(1.047**(TI-T))) # Changed ^ to ** for exponentiation\n",
        "print (\"The value ofK2 is:\", K2)\n",
        "# To find Ultimate BOD\n",
        "e=2.718 # Changed from string to float\n",
        "print (\"The value of e is:\", e)\n",
        "\n",
        "Bl = float(input(\"BOD at 3rd day 20c:\"))\n",
        "t = float(input(\"time in days for finding B1:\"))\n",
        "E=(1-2.71828**(-0.23*t))\n",
        "print (\"The value of E is:\", E)\n",
        "BI = 10 * E\n",
        "print (\"The value of 10 is:\", 10)\n",
        "# To find BOD at 7th day 25C # Corrected typo in comment\n",
        "B2 = float(input(\"BOD at 7rd day 25c:\"))\n",
        "t1 =float(input(\"time in days for findinfB2:\")) # Corrected typo\n",
        "El =(1-e-0.289*11)\n",
        "print (\"The value ofEl is:\", El)\n",
        "B2 = (10*E)\n"
      ]
    }
  ]
}